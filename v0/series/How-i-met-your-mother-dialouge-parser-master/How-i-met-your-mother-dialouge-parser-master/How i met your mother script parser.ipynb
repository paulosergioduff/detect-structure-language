{
 "cells": [
  {
   "cell_type": "markdown",
   "metadata": {},
   "source": [
    "# How i met your mother script parser"
   ]
  },
  {
   "cell_type": "code",
   "execution_count": 3,
   "metadata": {},
   "outputs": [],
   "source": [
    "import bs4 as bs\n",
    "from urllib.request import Request, urlopen"
   ]
  },
  {
   "cell_type": "code",
   "execution_count": 4,
   "metadata": {},
   "outputs": [],
   "source": [
    "site = 'https://genius.com/albums/How-i-met-your-mother/Season-1'"
   ]
  },
  {
   "cell_type": "code",
   "execution_count": 5,
   "metadata": {},
   "outputs": [],
   "source": [
    "req = Request(site, headers={'User-Agent': 'Mozilla/5.0'})\n",
    "webpage = urlopen(req).read()\n",
    "soup = bs.BeautifulSoup(webpage,'lxml')"
   ]
  },
  {
   "cell_type": "code",
   "execution_count": 8,
   "metadata": {
    "collapsed": true
   },
   "outputs": [
    {
     "name": "stdout",
     "output_type": "stream",
     "text": [
      "https://genius.com/How-i-met-your-mother-pilot-annotated\n",
      "https://genius.com/How-i-met-your-mother-purple-giraffe-annotated\n",
      "https://genius.com/How-i-met-your-mother-sweet-taste-of-liberty-annotated\n",
      "https://genius.com/How-i-met-your-mother-return-of-the-shirt-annotated\n",
      "https://genius.com/How-i-met-your-mother-okay-awesome-annotated\n",
      "https://genius.com/How-i-met-your-mother-slutty-pumpkin-annotated\n",
      "https://genius.com/How-i-met-your-mother-matchmaker-annotated\n",
      "https://genius.com/How-i-met-your-mother-the-duel-annotated\n",
      "https://genius.com/How-i-met-your-mother-belly-full-of-turkey-annotated\n",
      "https://genius.com/How-i-met-your-mother-the-pineapple-incident-annotated\n",
      "https://genius.com/How-i-met-your-mother-the-limo-annotated\n",
      "https://genius.com/How-i-met-your-mother-the-wedding-annotated\n",
      "https://genius.com/How-i-met-your-mother-drumroll-please-annotated\n",
      "https://genius.com/How-i-met-your-mother-zip-zip-zip-annotated\n",
      "https://genius.com/How-i-met-your-mother-game-night-annotated\n",
      "https://genius.com/How-i-met-your-mother-cupcake-annotated\n",
      "https://genius.com/How-i-met-your-mother-life-among-the-gorillas-annotated\n",
      "https://genius.com/How-i-met-your-mother-nothing-good-happens-after-2-am-annotated\n",
      "https://genius.com/How-i-met-your-mother-mary-the-paralegal-annotated\n",
      "https://genius.com/How-i-met-your-mother-best-prom-ever-annotated\n",
      "https://genius.com/How-i-met-your-mother-milk-annotated\n",
      "https://genius.com/How-i-met-your-mother-come-on-annotated\n"
     ]
    }
   ],
   "source": [
    "for url in soup.find_all('a'):\n",
    "    if 'How-i-met-your-mother-' in url.get('href'):\n",
    "        print(url.get('href'))"
   ]
  },
  {
   "cell_type": "code",
   "execution_count": 21,
   "metadata": {},
   "outputs": [],
   "source": [
    "season_sites = []\n",
    "for num in range(1,8):\n",
    "    season_site = 'https://genius.com/albums/How-i-met-your-mother/Season-{}'.format(num)\n",
    "    season_sites.append(season_site)"
   ]
  },
  {
   "cell_type": "code",
   "execution_count": 22,
   "metadata": {},
   "outputs": [
    {
     "data": {
      "text/plain": [
       "['https://genius.com/albums/How-i-met-your-mother/Season-1',\n",
       " 'https://genius.com/albums/How-i-met-your-mother/Season-2',\n",
       " 'https://genius.com/albums/How-i-met-your-mother/Season-3',\n",
       " 'https://genius.com/albums/How-i-met-your-mother/Season-4',\n",
       " 'https://genius.com/albums/How-i-met-your-mother/Season-5',\n",
       " 'https://genius.com/albums/How-i-met-your-mother/Season-6',\n",
       " 'https://genius.com/albums/How-i-met-your-mother/Season-7']"
      ]
     },
     "execution_count": 22,
     "metadata": {},
     "output_type": "execute_result"
    }
   ],
   "source": [
    "season_sites"
   ]
  },
  {
   "cell_type": "markdown",
   "metadata": {},
   "source": [
    "## Main parser"
   ]
  },
  {
   "cell_type": "code",
   "execution_count": 20,
   "metadata": {},
   "outputs": [],
   "source": [
    "for site in season_sites:\n",
    "    s_num = site.split('Season-')[1][0]\n",
    "    req = Request(site, headers={'User-Agent': 'Mozilla/5.0'})\n",
    "    webpage = urlopen(req).read()\n",
    "    soup = bs.BeautifulSoup(webpage,'lxml')\n",
    "    e_num = 1\n",
    "    for url in soup.find_all('a'):\n",
    "        if 'How-i-met-your-mother-' in url.get('href'):\n",
    "            url = (url.get('href')) \n",
    "            name = url.split('How-i-met-your-mother-')[1]\n",
    "            name = s_num + '_'+str(e_num)+'_' + name\n",
    "            #print(name)\n",
    "            \n",
    "            req = Request(url, headers={'User-Agent': 'Mozilla/5.0'})\n",
    "            webpage = urlopen(req).read()\n",
    "            soup = bs.BeautifulSoup(webpage,'lxml')\n",
    "            \n",
    "            body = soup.body\n",
    "            f = open('data/'+name+'.txt','w',encoding = 'utf8')\n",
    "            for paragraph in body.find_all('p'):\n",
    "                f.write(paragraph.text)\n",
    "            f.close()\n",
    "            \n",
    "            \n",
    "            e_num +=1"
   ]
  },
  {
   "cell_type": "code",
   "execution_count": null,
   "metadata": {},
   "outputs": [],
   "source": []
  }
 ],
 "metadata": {
  "kernelspec": {
   "display_name": "Python 3",
   "language": "python",
   "name": "python3"
  },
  "language_info": {
   "codemirror_mode": {
    "name": "ipython",
    "version": 3
   },
   "file_extension": ".py",
   "mimetype": "text/x-python",
   "name": "python",
   "nbconvert_exporter": "python",
   "pygments_lexer": "ipython3",
   "version": "3.6.4"
  }
 },
 "nbformat": 4,
 "nbformat_minor": 2
}
